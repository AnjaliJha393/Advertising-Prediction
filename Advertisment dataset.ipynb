{
 "cells": [
  {
   "cell_type": "code",
   "execution_count": 1,
   "id": "21f8841f",
   "metadata": {},
   "outputs": [],
   "source": [
    "import numpy as np\n",
    "import pandas as pd\n",
    "import seaborn as sns\n",
    "import matplotlib.pyplot as plt\n",
    "import warnings\n",
    "warnings.filterwarnings('ignore')"
   ]
  },
  {
   "cell_type": "code",
   "execution_count": 2,
   "id": "8e7a0f7b",
   "metadata": {},
   "outputs": [
    {
     "data": {
      "text/html": [
       "<div>\n",
       "<style scoped>\n",
       "    .dataframe tbody tr th:only-of-type {\n",
       "        vertical-align: middle;\n",
       "    }\n",
       "\n",
       "    .dataframe tbody tr th {\n",
       "        vertical-align: top;\n",
       "    }\n",
       "\n",
       "    .dataframe thead th {\n",
       "        text-align: right;\n",
       "    }\n",
       "</style>\n",
       "<table border=\"1\" class=\"dataframe\">\n",
       "  <thead>\n",
       "    <tr style=\"text-align: right;\">\n",
       "      <th></th>\n",
       "      <th>Unnamed: 0</th>\n",
       "      <th>TV</th>\n",
       "      <th>radio</th>\n",
       "      <th>newspaper</th>\n",
       "      <th>sales</th>\n",
       "    </tr>\n",
       "  </thead>\n",
       "  <tbody>\n",
       "    <tr>\n",
       "      <th>0</th>\n",
       "      <td>1</td>\n",
       "      <td>230.1</td>\n",
       "      <td>37.8</td>\n",
       "      <td>69.2</td>\n",
       "      <td>22.1</td>\n",
       "    </tr>\n",
       "    <tr>\n",
       "      <th>1</th>\n",
       "      <td>2</td>\n",
       "      <td>44.5</td>\n",
       "      <td>39.3</td>\n",
       "      <td>45.1</td>\n",
       "      <td>10.4</td>\n",
       "    </tr>\n",
       "    <tr>\n",
       "      <th>2</th>\n",
       "      <td>3</td>\n",
       "      <td>17.2</td>\n",
       "      <td>45.9</td>\n",
       "      <td>69.3</td>\n",
       "      <td>9.3</td>\n",
       "    </tr>\n",
       "    <tr>\n",
       "      <th>3</th>\n",
       "      <td>4</td>\n",
       "      <td>151.5</td>\n",
       "      <td>41.3</td>\n",
       "      <td>58.5</td>\n",
       "      <td>18.5</td>\n",
       "    </tr>\n",
       "    <tr>\n",
       "      <th>4</th>\n",
       "      <td>5</td>\n",
       "      <td>180.8</td>\n",
       "      <td>10.8</td>\n",
       "      <td>58.4</td>\n",
       "      <td>12.9</td>\n",
       "    </tr>\n",
       "    <tr>\n",
       "      <th>...</th>\n",
       "      <td>...</td>\n",
       "      <td>...</td>\n",
       "      <td>...</td>\n",
       "      <td>...</td>\n",
       "      <td>...</td>\n",
       "    </tr>\n",
       "    <tr>\n",
       "      <th>195</th>\n",
       "      <td>196</td>\n",
       "      <td>38.2</td>\n",
       "      <td>3.7</td>\n",
       "      <td>13.8</td>\n",
       "      <td>7.6</td>\n",
       "    </tr>\n",
       "    <tr>\n",
       "      <th>196</th>\n",
       "      <td>197</td>\n",
       "      <td>94.2</td>\n",
       "      <td>4.9</td>\n",
       "      <td>8.1</td>\n",
       "      <td>9.7</td>\n",
       "    </tr>\n",
       "    <tr>\n",
       "      <th>197</th>\n",
       "      <td>198</td>\n",
       "      <td>177.0</td>\n",
       "      <td>9.3</td>\n",
       "      <td>6.4</td>\n",
       "      <td>12.8</td>\n",
       "    </tr>\n",
       "    <tr>\n",
       "      <th>198</th>\n",
       "      <td>199</td>\n",
       "      <td>283.6</td>\n",
       "      <td>42.0</td>\n",
       "      <td>66.2</td>\n",
       "      <td>25.5</td>\n",
       "    </tr>\n",
       "    <tr>\n",
       "      <th>199</th>\n",
       "      <td>200</td>\n",
       "      <td>232.1</td>\n",
       "      <td>8.6</td>\n",
       "      <td>8.7</td>\n",
       "      <td>13.4</td>\n",
       "    </tr>\n",
       "  </tbody>\n",
       "</table>\n",
       "<p>200 rows × 5 columns</p>\n",
       "</div>"
      ],
      "text/plain": [
       "     Unnamed: 0     TV  radio  newspaper  sales\n",
       "0             1  230.1   37.8       69.2   22.1\n",
       "1             2   44.5   39.3       45.1   10.4\n",
       "2             3   17.2   45.9       69.3    9.3\n",
       "3             4  151.5   41.3       58.5   18.5\n",
       "4             5  180.8   10.8       58.4   12.9\n",
       "..          ...    ...    ...        ...    ...\n",
       "195         196   38.2    3.7       13.8    7.6\n",
       "196         197   94.2    4.9        8.1    9.7\n",
       "197         198  177.0    9.3        6.4   12.8\n",
       "198         199  283.6   42.0       66.2   25.5\n",
       "199         200  232.1    8.6        8.7   13.4\n",
       "\n",
       "[200 rows x 5 columns]"
      ]
     },
     "execution_count": 2,
     "metadata": {},
     "output_type": "execute_result"
    }
   ],
   "source": [
    "# to load data\n",
    "# work on dataset advertising.csv\n",
    "\n",
    "df=pd.read_csv(\"advertising.csv\")\n",
    "df"
   ]
  },
  {
   "cell_type": "code",
   "execution_count": 3,
   "id": "3ac2eec0",
   "metadata": {},
   "outputs": [
    {
     "data": {
      "text/html": [
       "<div>\n",
       "<style scoped>\n",
       "    .dataframe tbody tr th:only-of-type {\n",
       "        vertical-align: middle;\n",
       "    }\n",
       "\n",
       "    .dataframe tbody tr th {\n",
       "        vertical-align: top;\n",
       "    }\n",
       "\n",
       "    .dataframe thead th {\n",
       "        text-align: right;\n",
       "    }\n",
       "</style>\n",
       "<table border=\"1\" class=\"dataframe\">\n",
       "  <thead>\n",
       "    <tr style=\"text-align: right;\">\n",
       "      <th></th>\n",
       "      <th>Unnamed: 0</th>\n",
       "      <th>TV</th>\n",
       "      <th>radio</th>\n",
       "      <th>newspaper</th>\n",
       "      <th>sales</th>\n",
       "    </tr>\n",
       "  </thead>\n",
       "  <tbody>\n",
       "    <tr>\n",
       "      <th>0</th>\n",
       "      <td>1</td>\n",
       "      <td>230.1</td>\n",
       "      <td>37.8</td>\n",
       "      <td>69.2</td>\n",
       "      <td>22.1</td>\n",
       "    </tr>\n",
       "    <tr>\n",
       "      <th>1</th>\n",
       "      <td>2</td>\n",
       "      <td>44.5</td>\n",
       "      <td>39.3</td>\n",
       "      <td>45.1</td>\n",
       "      <td>10.4</td>\n",
       "    </tr>\n",
       "    <tr>\n",
       "      <th>2</th>\n",
       "      <td>3</td>\n",
       "      <td>17.2</td>\n",
       "      <td>45.9</td>\n",
       "      <td>69.3</td>\n",
       "      <td>9.3</td>\n",
       "    </tr>\n",
       "    <tr>\n",
       "      <th>3</th>\n",
       "      <td>4</td>\n",
       "      <td>151.5</td>\n",
       "      <td>41.3</td>\n",
       "      <td>58.5</td>\n",
       "      <td>18.5</td>\n",
       "    </tr>\n",
       "    <tr>\n",
       "      <th>4</th>\n",
       "      <td>5</td>\n",
       "      <td>180.8</td>\n",
       "      <td>10.8</td>\n",
       "      <td>58.4</td>\n",
       "      <td>12.9</td>\n",
       "    </tr>\n",
       "  </tbody>\n",
       "</table>\n",
       "</div>"
      ],
      "text/plain": [
       "   Unnamed: 0     TV  radio  newspaper  sales\n",
       "0           1  230.1   37.8       69.2   22.1\n",
       "1           2   44.5   39.3       45.1   10.4\n",
       "2           3   17.2   45.9       69.3    9.3\n",
       "3           4  151.5   41.3       58.5   18.5\n",
       "4           5  180.8   10.8       58.4   12.9"
      ]
     },
     "execution_count": 3,
     "metadata": {},
     "output_type": "execute_result"
    }
   ],
   "source": [
    "df.head()  "
   ]
  },
  {
   "cell_type": "code",
   "execution_count": 4,
   "id": "733418e3",
   "metadata": {},
   "outputs": [
    {
     "data": {
      "text/html": [
       "<div>\n",
       "<style scoped>\n",
       "    .dataframe tbody tr th:only-of-type {\n",
       "        vertical-align: middle;\n",
       "    }\n",
       "\n",
       "    .dataframe tbody tr th {\n",
       "        vertical-align: top;\n",
       "    }\n",
       "\n",
       "    .dataframe thead th {\n",
       "        text-align: right;\n",
       "    }\n",
       "</style>\n",
       "<table border=\"1\" class=\"dataframe\">\n",
       "  <thead>\n",
       "    <tr style=\"text-align: right;\">\n",
       "      <th></th>\n",
       "      <th>TV</th>\n",
       "      <th>radio</th>\n",
       "      <th>newspaper</th>\n",
       "      <th>sales</th>\n",
       "    </tr>\n",
       "  </thead>\n",
       "  <tbody>\n",
       "    <tr>\n",
       "      <th>0</th>\n",
       "      <td>230.1</td>\n",
       "      <td>37.8</td>\n",
       "      <td>69.2</td>\n",
       "      <td>22.1</td>\n",
       "    </tr>\n",
       "    <tr>\n",
       "      <th>1</th>\n",
       "      <td>44.5</td>\n",
       "      <td>39.3</td>\n",
       "      <td>45.1</td>\n",
       "      <td>10.4</td>\n",
       "    </tr>\n",
       "    <tr>\n",
       "      <th>2</th>\n",
       "      <td>17.2</td>\n",
       "      <td>45.9</td>\n",
       "      <td>69.3</td>\n",
       "      <td>9.3</td>\n",
       "    </tr>\n",
       "    <tr>\n",
       "      <th>3</th>\n",
       "      <td>151.5</td>\n",
       "      <td>41.3</td>\n",
       "      <td>58.5</td>\n",
       "      <td>18.5</td>\n",
       "    </tr>\n",
       "    <tr>\n",
       "      <th>4</th>\n",
       "      <td>180.8</td>\n",
       "      <td>10.8</td>\n",
       "      <td>58.4</td>\n",
       "      <td>12.9</td>\n",
       "    </tr>\n",
       "  </tbody>\n",
       "</table>\n",
       "</div>"
      ],
      "text/plain": [
       "      TV  radio  newspaper  sales\n",
       "0  230.1   37.8       69.2   22.1\n",
       "1   44.5   39.3       45.1   10.4\n",
       "2   17.2   45.9       69.3    9.3\n",
       "3  151.5   41.3       58.5   18.5\n",
       "4  180.8   10.8       58.4   12.9"
      ]
     },
     "execution_count": 4,
     "metadata": {},
     "output_type": "execute_result"
    }
   ],
   "source": [
    "# to remove column permanently from dataframe \n",
    "\n",
    "df.drop(\"Unnamed: 0\",axis=1,inplace=True)\n",
    "df.head()"
   ]
  },
  {
   "cell_type": "code",
   "execution_count": 5,
   "id": "22e871d7",
   "metadata": {},
   "outputs": [
    {
     "data": {
      "text/plain": [
       "TV           0\n",
       "radio        0\n",
       "newspaper    0\n",
       "sales        0\n",
       "dtype: int64"
      ]
     },
     "execution_count": 5,
     "metadata": {},
     "output_type": "execute_result"
    }
   ],
   "source": [
    "# to check null values\n",
    "df.isnull().sum()"
   ]
  },
  {
   "cell_type": "code",
   "execution_count": 6,
   "id": "489f4336",
   "metadata": {},
   "outputs": [
    {
     "data": {
      "image/png": "[encoded data removed]",
      "text/plain": [
       "<Figure size 432x288 with 2 Axes>"
      ]
     },
     "metadata": {
      "needs_background": "light"
     },
     "output_type": "display_data"
    }
   ],
   "source": [
    "sns.heatmap(df.isnull())\n",
    "plt.show()"
   ]
  },
  {
   "cell_type": "code",
   "execution_count": 7,
   "id": "24cc54c7",
   "metadata": {
    "scrolled": true
   },
   "outputs": [
    {
     "name": "stdout",
     "output_type": "stream",
     "text": [
      "<class 'pandas.core.frame.DataFrame'>\n",
      "RangeIndex: 200 entries, 0 to 199\n",
      "Data columns (total 4 columns):\n",
      " #   Column     Non-Null Count  Dtype  \n",
      "---  ------     --------------  -----  \n",
      " 0   TV         200 non-null    float64\n",
      " 1   radio      200 non-null    float64\n",
      " 2   newspaper  200 non-null    float64\n",
      " 3   sales      200 non-null    float64\n",
      "dtypes: float64(4)\n",
      "memory usage: 6.4 KB\n"
     ]
    }
   ],
   "source": [
    "df.info()"
   ]
  },
  {
   "cell_type": "code",
   "execution_count": 8,
   "id": "4319e208",
   "metadata": {},
   "outputs": [
    {
     "data": {
      "text/plain": [
       "Index(['TV', 'radio', 'newspaper', 'sales'], dtype='object')"
      ]
     },
     "execution_count": 8,
     "metadata": {},
     "output_type": "execute_result"
    }
   ],
   "source": [
    "df.columns"
   ]
  },
  {
   "cell_type": "code",
   "execution_count": 9,
   "id": "4233ba83",
   "metadata": {},
   "outputs": [
    {
     "data": {
      "image/png": "[encoded data removed]",
      "text/plain": [
       "<Figure size 576x576 with 3 Axes>"
      ]
     },
     "metadata": {
      "needs_background": "light"
     },
     "output_type": "display_data"
    }
   ],
   "source": [
    "X=['TV', 'radio', 'newspaper']\n",
    "Y=df['sales']\n",
    "\n",
    "plt.figure(figsize=(8,8))\n",
    "for i, col in enumerate(X):   #enumerate():to return 2values from list \n",
    "    # 1.index 2.value at index\n",
    "    plt.subplot(2,2,i+1)  #subplot(rows,columns)\n",
    "    sns.scatterplot(df[col],Y)   #plt.scatter(X,Y)\n",
    "plt.show()"
   ]
  },
  {
   "cell_type": "code",
   "execution_count": 10,
   "id": "10126ff6",
   "metadata": {},
   "outputs": [],
   "source": [
    "X=df[['TV', 'radio', 'newspaper']]\n",
    "Y=df['sales']"
   ]
  },
  {
   "cell_type": "code",
   "execution_count": 11,
   "id": "3e1980cc",
   "metadata": {},
   "outputs": [],
   "source": [
    "from sklearn.model_selection import train_test_split"
   ]
  },
  {
   "cell_type": "code",
   "execution_count": 12,
   "id": "7a9d0d39",
   "metadata": {},
   "outputs": [],
   "source": [
    "X_train,X_test,Y_train,Y_test=train_test_split(X,Y,test_size=0.3,random_state=1)"
   ]
  },
  {
   "cell_type": "code",
   "execution_count": 13,
   "id": "f735b641",
   "metadata": {},
   "outputs": [],
   "source": [
    "#Nice upword growth that means as we investment more on TV the sales is also\n",
    "#increasing that means +ve correlation means good +ve correlation between\n",
    "#TV(input) with sales(output)\n",
    "\n",
    "#see the scatter plot radio with sales : - looks better but lot of data is \n",
    "#scattered but scatter data overhere +ve correlation, But correlation is less\n",
    "#as compared to TV\n",
    "\n",
    "#the scatter plot newspaper with sales is very bed correlation means no +ve \n",
    "#corr and no -ve corr means no\n",
    "#correlation newspaper with sales because data point are scattered"
   ]
  },
  {
   "cell_type": "code",
   "execution_count": 14,
   "id": "fb3b9ee5",
   "metadata": {},
   "outputs": [
    {
     "data": {
      "image/png": "[encoded data removed]",
      "text/plain": [
       "<Figure size 432x288 with 2 Axes>"
      ]
     },
     "metadata": {
      "needs_background": "light"
     },
     "output_type": "display_data"
    }
   ],
   "source": [
    "# check correlation between input and output\n",
    "\n",
    "sns.heatmap(df.corr(),annot=True)\n",
    "plt.show()"
   ]
  },
  {
   "cell_type": "code",
   "execution_count": 15,
   "id": "8acf81a3",
   "metadata": {},
   "outputs": [],
   "source": [
    "# correlation values with TV and sales=0.78 , It is very good\n",
    "# correlation values with radio and sales=0.58 , It is good(ok)\n",
    "# correlation values with newspaper and sales=0.23 , It is very bad"
   ]
  },
  {
   "cell_type": "markdown",
   "id": "3fbb3899",
   "metadata": {},
   "source": [
    "## performing the model"
   ]
  },
  {
   "cell_type": "code",
   "execution_count": 16,
   "id": "7a148c4f",
   "metadata": {},
   "outputs": [],
   "source": [
    "# perform the linear regression model\n",
    "# create a model with the help of LinearRegression\n",
    "# call LinearRegression class\n",
    "\n",
    "from sklearn.linear_model import LinearRegression"
   ]
  },
  {
   "cell_type": "code",
   "execution_count": 17,
   "id": "f699cf13",
   "metadata": {},
   "outputs": [],
   "source": [
    "# create the object of LinearRegression class\n",
    "lr=LinearRegression()"
   ]
  },
  {
   "cell_type": "code",
   "execution_count": 18,
   "id": "2cea286d",
   "metadata": {},
   "outputs": [
    {
     "data": {
      "text/plain": [
       "LinearRegression()"
      ]
     },
     "execution_count": 18,
     "metadata": {},
     "output_type": "execute_result"
    }
   ],
   "source": [
    "# train the model : use fit() inbuilt method of LinearRegression class\n",
    "lr.fit(X_train,Y_train)"
   ]
  },
  {
   "cell_type": "code",
   "execution_count": 19,
   "id": "d958a96f",
   "metadata": {},
   "outputs": [
    {
     "name": "stdout",
     "output_type": "stream",
     "text": [
      "slope : [0.04695205 0.17658644 0.00185115]\n",
      "intercept : 2.9372157346906107\n"
     ]
    }
   ],
   "source": [
    "# to show slope means coefficient and intercept\n",
    "print(\"slope :\",lr.coef_)\n",
    "print(\"intercept :\",lr.intercept_)"
   ]
  },
  {
   "cell_type": "code",
   "execution_count": 20,
   "id": "fe12dddc",
   "metadata": {},
   "outputs": [
    {
     "data": {
      "text/plain": [
       "array([21.66318307, 16.44137936,  7.69144625, 17.9163172 , 18.67047113,\n",
       "       23.79199311, 16.2825425 , 13.44138683,  9.15294033, 17.32475313,\n",
       "       14.43922876,  9.84019547, 17.26329945, 16.62853147, 15.09158705,\n",
       "       15.50173894, 12.43404074, 17.32591521, 11.04327486, 18.05652777,\n",
       "        9.35309526, 12.79465958,  8.73413846, 10.47225333, 11.38216042,\n",
       "       15.02658554,  9.7406823 , 19.44676903, 18.19211174, 17.20178728,\n",
       "       21.56359539, 14.70484262, 16.2635213 , 12.37098906, 19.97059316,\n",
       "       15.36768988, 14.00399515, 10.0772945 , 20.91891557,  7.43833283,\n",
       "        3.67031166,  7.27760354,  5.99523188, 18.41497546,  8.31868226,\n",
       "       14.1090252 , 14.93697583, 20.35882814, 20.56271636, 19.55380813,\n",
       "       24.10360923, 14.84985778,  6.71474914, 19.77761567, 18.93996367,\n",
       "       12.5109195 , 14.20052652,  6.10844697, 15.3695344 ,  9.56769111])"
      ]
     },
     "execution_count": 20,
     "metadata": {},
     "output_type": "execute_result"
    }
   ],
   "source": [
    "# test the model \n",
    "# ML always gives predicted output\n",
    "Y_pred=lr.predict(X_test)   #Y_pred=m*X_test+b\n",
    "Y_pred"
   ]
  },
  {
   "cell_type": "code",
   "execution_count": 21,
   "id": "5ed54d32",
   "metadata": {},
   "outputs": [],
   "source": [
    "from sklearn.metrics import mean_squared_error"
   ]
  },
  {
   "cell_type": "code",
   "execution_count": 22,
   "id": "6be3cd28",
   "metadata": {},
   "outputs": [
    {
     "data": {
      "text/plain": [
       "1.9289249074665737"
      ]
     },
     "execution_count": 22,
     "metadata": {},
     "output_type": "execute_result"
    }
   ],
   "source": [
    "# show mean_squared_error\n",
    "mean_squared_error(Y_test,Y_pred)    #formula=sum of (Y-Y_pred)^2/N "
   ]
  },
  {
   "cell_type": "code",
   "execution_count": 23,
   "id": "d5577c8e",
   "metadata": {},
   "outputs": [],
   "source": [
    "# R-2 score : formula = (TSS-RSS)/TSS \n",
    "# where TSS means total sum of squared, RSS means residual sum of squared\n",
    "# range of R-2 score is 0 to 1"
   ]
  },
  {
   "cell_type": "code",
   "execution_count": 24,
   "id": "85f99769",
   "metadata": {},
   "outputs": [],
   "source": [
    "from sklearn.metrics import r2_score"
   ]
  },
  {
   "cell_type": "code",
   "execution_count": 25,
   "id": "1fc515e3",
   "metadata": {},
   "outputs": [
    {
     "data": {
      "text/plain": [
       "0.9224605706201434"
      ]
     },
     "execution_count": 25,
     "metadata": {},
     "output_type": "execute_result"
    }
   ],
   "source": [
    "r2_score(Y_test,Y_pred)"
   ]
  },
  {
   "cell_type": "code",
   "execution_count": 26,
   "id": "596edb2d",
   "metadata": {},
   "outputs": [],
   "source": [
    "#here input radio and newspaper both are corelated each other value of corr \n",
    "#between radio and newspaper =0.35 means multicolinearity situation occurs(greater than 0.1)\n",
    "#so check corr of both input radio and newspapaer with o/p and remove those \n",
    "#input column whose corr value with o/p will be less \n",
    "#here newspaper is less correlated with o/p sales as compared to radio with\n",
    "#sales so remove newspaper from dataset \n",
    "#and perform TV and radio with sales"
   ]
  },
  {
   "cell_type": "code",
   "execution_count": 27,
   "id": "50d29d81",
   "metadata": {},
   "outputs": [],
   "source": [
    "#corr value of radio with sales :  0.58  \n",
    "#corr value of newspaper with sales : 0.23\n",
    "#corr value of radio and newspaper(both are input and correlated each other:0.35\n",
    "#so we decided , remove newspaper because corr of radio with sales>newspaper \n",
    "#with sales\n",
    "#We have input TV and radio and target sales\n",
    "X=df[[\"TV\",\"radio\"]] #input TV and radio : 2D array\n",
    "Y=df[\"sales\"] #output which want to predict : always 1 D array"
   ]
  },
  {
   "cell_type": "code",
   "execution_count": 28,
   "id": "ac317bb9",
   "metadata": {},
   "outputs": [],
   "source": [
    "X_train,X_test,Y_train,Y_test=train_test_split(X,Y,test_size=0.3,random_state=1)"
   ]
  },
  {
   "cell_type": "code",
   "execution_count": 29,
   "id": "4adbf8e5",
   "metadata": {},
   "outputs": [],
   "source": [
    "Lr1=LinearRegression()"
   ]
  },
  {
   "cell_type": "code",
   "execution_count": 30,
   "id": "5a0d9509",
   "metadata": {},
   "outputs": [
    {
     "data": {
      "text/plain": [
       "LinearRegression()"
      ]
     },
     "execution_count": 30,
     "metadata": {},
     "output_type": "execute_result"
    }
   ],
   "source": [
    "Lr1.fit(X_train,Y_train)"
   ]
  },
  {
   "cell_type": "code",
   "execution_count": 31,
   "id": "f526c1e8",
   "metadata": {},
   "outputs": [
    {
     "data": {
      "text/plain": [
       "array([21.6786746 , 16.43892004,  7.70903733, 17.92158421, 18.67111499,\n",
       "       23.74835071, 16.24962798, 13.37657045,  9.12364788, 17.27585015,\n",
       "       14.40513872,  9.85730919, 17.31402746, 16.61437382, 15.02857874,\n",
       "       15.42489496, 12.42021473, 17.34892466, 11.09570896, 18.10320281,\n",
       "        9.38655615, 12.65171582,  8.70947008, 10.49704698, 11.35942404,\n",
       "       15.03043294,  9.73268033, 19.46660993, 18.26160716, 17.21035792,\n",
       "       21.60669421, 14.58454377, 16.32136242, 12.3456783 , 19.99853614,\n",
       "       15.38120487, 14.01613968, 10.05601014, 20.94792024,  7.45626202,\n",
       "        3.65120693,  7.26465144,  5.99278035, 18.39717578,  8.2996665 ,\n",
       "       14.13011074, 14.95229617, 20.37261349, 20.60678937, 19.48376432,\n",
       "       24.08819667, 14.89416249,  6.71850002, 19.74995269, 18.99448081,\n",
       "       12.52042181, 14.18823598,  6.09331077, 15.39558485,  9.58586241])"
      ]
     },
     "execution_count": 31,
     "metadata": {},
     "output_type": "execute_result"
    }
   ],
   "source": [
    "Y_pred1=Lr1.predict(X_test)\n",
    "Y_pred1"
   ]
  },
  {
   "cell_type": "code",
   "execution_count": 32,
   "id": "d364e76a",
   "metadata": {},
   "outputs": [
    {
     "name": "stdout",
     "output_type": "stream",
     "text": [
      "Slope : [0.04697554 0.17765046]\n",
      "Intercept : 2.9647671191401574\n"
     ]
    }
   ],
   "source": [
    "print(\"Slope :\",Lr1.coef_)\n",
    "print(\"Intercept :\",Lr1.intercept_)"
   ]
  },
  {
   "cell_type": "code",
   "execution_count": 33,
   "id": "a801ceda",
   "metadata": {},
   "outputs": [
    {
     "data": {
      "text/plain": [
       "1.9147050289721805"
      ]
     },
     "execution_count": 33,
     "metadata": {},
     "output_type": "execute_result"
    }
   ],
   "source": [
    "mean_squared_error(Y_test,Y_pred1)"
   ]
  },
  {
   "cell_type": "code",
   "execution_count": 34,
   "id": "2a152051",
   "metadata": {},
   "outputs": [
    {
     "data": {
      "text/plain": [
       "0.92303218502568"
      ]
     },
     "execution_count": 34,
     "metadata": {},
     "output_type": "execute_result"
    }
   ],
   "source": [
    "r2_score(Y_test,Y_pred1)"
   ]
  },
  {
   "cell_type": "code",
   "execution_count": 35,
   "id": "c026bbed",
   "metadata": {},
   "outputs": [
    {
     "name": "stdout",
     "output_type": "stream",
     "text": [
      "58     2.121325\n",
      "40     0.161080\n",
      "34     1.790963\n",
      "102   -3.121584\n",
      "184   -1.071115\n",
      "198    1.751649\n",
      "95     0.650372\n",
      "4     -0.476570\n",
      "29     1.376352\n",
      "168   -0.175850\n",
      "171    0.094861\n",
      "18     1.442691\n",
      "11     0.085973\n",
      "89     0.085626\n",
      "110   -1.628579\n",
      "118    0.475105\n",
      "159    0.479785\n",
      "35    -4.548925\n",
      "136   -1.595709\n",
      "59     0.296797\n",
      "51     1.313444\n",
      "16    -0.151716\n",
      "44    -0.209470\n",
      "94     1.002953\n",
      "31     0.540576\n",
      "162   -0.130433\n",
      "38     0.367320\n",
      "28    -0.566610\n",
      "193    1.338393\n",
      "27    -1.310358\n",
      "47     1.593306\n",
      "165   -2.684544\n",
      "194    0.978638\n",
      "177   -0.645678\n",
      "176    0.201464\n",
      "97     0.118795\n",
      "174   -2.516140\n",
      "73     0.943990\n",
      "69     1.352080\n",
      "172    0.143738\n",
      "108    1.648793\n",
      "107    1.435349\n",
      "189    0.707220\n",
      "14     0.602824\n",
      "56    -2.799666\n",
      "19     0.469889\n",
      "114   -0.352296\n",
      "39     1.127387\n",
      "185    1.993211\n",
      "124    0.216236\n",
      "98     1.311803\n",
      "123    0.305838\n",
      "119   -0.118500\n",
      "53     1.450047\n",
      "33    -1.594481\n",
      "179    0.079578\n",
      "181   -1.988236\n",
      "106    1.106689\n",
      "199   -1.995585\n",
      "138    0.014138\n",
      "Name: sales, dtype: float64\n"
     ]
    }
   ],
   "source": [
    "#Asummptionof Linear regression\n",
    "#2 Threr sould be Lnear relationship\n",
    "#3 If occur linear relation  next check relationn is homoskedastick\n",
    "#not hetrotroskedastik\n",
    "\n",
    "#find residuals\n",
    "residual=Y_test-Y_pred1\n",
    "print(residual)"
   ]
  },
  {
   "cell_type": "code",
   "execution_count": 36,
   "id": "cf6b8dc3",
   "metadata": {},
   "outputs": [
    {
     "data": {
      "image/png": "[encoded data removed]",
      "text/plain": [
       "<Figure size 432x288 with 1 Axes>"
      ]
     },
     "metadata": {
      "needs_background": "light"
     },
     "output_type": "display_data"
    }
   ],
   "source": [
    "# visualize scatter plt between Y_ped and residual means\n",
    "# here input x =Y_pred and \n",
    "sns.scatterplot(Y_pred1,residual)\n",
    "plt.show()"
   ]
  },
  {
   "cell_type": "code",
   "execution_count": 37,
   "id": "d63c49b1",
   "metadata": {},
   "outputs": [],
   "source": [
    "# in above scatterplot, This is not a linear relation between Y_pred\n",
    "# and residules means no relation between x=[\"TV\",\"radio\"] with sales o/p\n",
    "#means this assumption is not fullfill"
   ]
  },
  {
   "cell_type": "raw",
   "id": "6796697d",
   "metadata": {},
   "source": [
    "Assumptions in LR\n",
    "1.Multicolinearity : input ka input se relation hai matlab multicolinearity\n",
    "then remove one input \n",
    "2.input and otput ka linear relation hona chahiye\n",
    "3.aur agar relation hai toh voh Homoskedastic hona chahiye\n",
    "(homoskedastic means scatter data values are nearer to the line and heteroskedastic means scatter data values are little away  from line)if occur linear relation then next check relation is \n",
    "homoskedatik not a heteroskedastik\n",
    "4.Resedual must be Normal distributed \n",
    "curve means data should be euqally divide on both sides.\n",
    "normal distributed curve then use inbuilt function displot() of seaborn\n",
    "library ,distplot is also known as frequency graph\n",
    "use distplot() and histplot"
   ]
  },
  {
   "cell_type": "code",
   "execution_count": 38,
   "id": "36bca327",
   "metadata": {},
   "outputs": [
    {
     "data": {
      "image/png": "[encoded data removed]",
      "text/plain": [
       "<Figure size 432x288 with 1 Axes>"
      ]
     },
     "metadata": {
      "needs_background": "light"
     },
     "output_type": "display_data"
    }
   ],
   "source": [
    "sns.histplot(residual)\n",
    "plt.show()"
   ]
  },
  {
   "cell_type": "code",
   "execution_count": 39,
   "id": "be4fa06f",
   "metadata": {},
   "outputs": [
    {
     "data": {
      "text/plain": [
       "-1.0935181639447333"
      ]
     },
     "execution_count": 39,
     "metadata": {},
     "output_type": "execute_result"
    }
   ],
   "source": [
    "residual.skew()"
   ]
  },
  {
   "cell_type": "code",
   "execution_count": 40,
   "id": "70ad0b56",
   "metadata": {},
   "outputs": [
    {
     "data": {
      "image/png": "[encoded data removed]",
      "text/plain": [
       "<Figure size 432x288 with 1 Axes>"
      ]
     },
     "metadata": {
      "needs_background": "light"
     },
     "output_type": "display_data"
    }
   ],
   "source": [
    "\n",
    "sns.histplot(residual)\n",
    "plt.show()"
   ]
  },
  {
   "cell_type": "code",
   "execution_count": 41,
   "id": "3be5580c",
   "metadata": {},
   "outputs": [
    {
     "data": {
      "image/png": "[encoded data removed]",
      "text/plain": [
       "<Figure size 432x288 with 1 Axes>"
      ]
     },
     "metadata": {
      "needs_background": "light"
     },
     "output_type": "display_data"
    }
   ],
   "source": [
    "sns.distplot(residual)\n",
    "plt.show()"
   ]
  },
  {
   "cell_type": "code",
   "execution_count": 42,
   "id": "293dc177",
   "metadata": {},
   "outputs": [],
   "source": [
    "# In above distplot curve , -ve skewness found means no normal distributed curve\n",
    "# found means it is a AS -symmetric curve means this assumption is not fullfill"
   ]
  },
  {
   "cell_type": "code",
   "execution_count": 43,
   "id": "20ece318",
   "metadata": {},
   "outputs": [],
   "source": [
    "# here we handled multicolinearity (removed multicolinearity (problem)\n",
    "# but not working 3 assumption \n",
    "# means no relation relationship means here create a curve\n",
    "# relation should be HOMOSKEDAStik : means datapoints are closely each other\n",
    "# should not by Heteroskedastic  means should not be scattered\n",
    "# if linear relationship occurs\n",
    "# no normal distributed curve"
   ]
  },
  {
   "cell_type": "code",
   "execution_count": 44,
   "id": "28623a96",
   "metadata": {},
   "outputs": [],
   "source": [
    "# assumptions fulfill = model perfect\n",
    "\n",
    "#HERE we handled multicolinearity (removed multicolinearity (problem)\n",
    "#but not working 3 assumption \n",
    "#means no relation relationship means here create a curve\n",
    "#relation should be HOMOSKEDAStik : means datapoints are closely each other\n",
    "#should not by Heteroskedastic  means should not be scattered\n",
    "#if linear relationship occurs\n",
    "# no normal distributed curve\n",
    "\n",
    "# so use Polynomial linear Regression"
   ]
  },
  {
   "cell_type": "markdown",
   "id": "6eb99087",
   "metadata": {},
   "source": [
    "#### polynomial linear equation "
   ]
  },
  {
   "cell_type": "code",
   "execution_count": 45,
   "id": "624ed2f2",
   "metadata": {},
   "outputs": [],
   "source": [
    "#Input : TV and radio means X1=TV X2=radio  and output Y=sales\n",
    "#increase the degree of input variable=2\n",
    "#equation Y=m1*TV**2+m2*TV+m3*radio**2+m4*radio+b\n",
    "#we work on dataset \n",
    "#apply polynomial linear regression means increase the degree of independent\n",
    "#variable X means degree=2 \n",
    "#equation : ax2+bx+c=0  here 2 inputs ax1**2+bx1+cx2**2+dx2+e\n",
    "#here we have 2 inputs : - X=TV,radio means X1=\"TV\" and X2=\"radio\"\n",
    "#eq. m1*TV**2+m2*TV**1+m3*radio**2+m4*radio**1+b"
   ]
  },
  {
   "cell_type": "code",
   "execution_count": 46,
   "id": "1abb9412",
   "metadata": {},
   "outputs": [],
   "source": [
    "# take input variable \n",
    "X=df[['TV','radio']]   #input always 2D array\n",
    "Y=df['sales']"
   ]
  },
  {
   "cell_type": "code",
   "execution_count": 47,
   "id": "0030ec7f",
   "metadata": {},
   "outputs": [],
   "source": [
    "from sklearn.preprocessing import PolynomialFeatures"
   ]
  },
  {
   "cell_type": "code",
   "execution_count": 48,
   "id": "31de709c",
   "metadata": {},
   "outputs": [],
   "source": [
    "# create object \n",
    "pf=PolynomialFeatures(3)  #here 3 is degree of input means pass how much degree\n",
    "#pass how much degree"
   ]
  },
  {
   "cell_type": "code",
   "execution_count": 49,
   "id": "23aacc04",
   "metadata": {},
   "outputs": [],
   "source": [
    "#fit_transform() : inbuilt method of polynomialfeature class\n",
    "# we create polynomial of X so we call fit_transform() : inbuilt\n",
    "# method of polynomial features class\n",
    "\n",
    "X_poly=pf.fit_transform(X)\n"
   ]
  },
  {
   "cell_type": "code",
   "execution_count": 50,
   "id": "e55a8712",
   "metadata": {},
   "outputs": [],
   "source": [
    "# same steps apply of linearregression\n",
    "\n",
    "# train_test_split\n",
    "X_train,X_test,Y_train,Y_test=train_test_split(X_poly,Y,test_size=0.3,random_state=1)"
   ]
  },
  {
   "cell_type": "code",
   "execution_count": 51,
   "id": "15bbbec6",
   "metadata": {},
   "outputs": [],
   "source": [
    "# create object\n",
    "lr=LinearRegression()"
   ]
  },
  {
   "cell_type": "code",
   "execution_count": 52,
   "id": "613fb067",
   "metadata": {},
   "outputs": [
    {
     "data": {
      "text/plain": [
       "LinearRegression()"
      ]
     },
     "execution_count": 52,
     "metadata": {},
     "output_type": "execute_result"
    }
   ],
   "source": [
    "# train the data , using fit() method\n",
    "lr.fit(X_train,Y_train)\n"
   ]
  },
  {
   "cell_type": "code",
   "execution_count": 53,
   "id": "837b6eab",
   "metadata": {},
   "outputs": [],
   "source": [
    "# we testing the model means prediction\n",
    "Y_pred=lr.predict(X_test)"
   ]
  },
  {
   "cell_type": "code",
   "execution_count": 54,
   "id": "7b57b0fa",
   "metadata": {},
   "outputs": [
    {
     "data": {
      "text/plain": [
       "array([23.84188798, 16.15436166,  9.59311778, 14.86575705, 17.42053977,\n",
       "       25.47220033, 17.09714001, 12.92302282, 10.3562538 , 16.85479186,\n",
       "       14.80887029, 10.76989194, 16.94016998, 17.57103614, 12.95422039,\n",
       "       16.47942682, 13.34770761, 13.26078551,  8.64395867, 18.26807726,\n",
       "       10.89674657, 12.56988193,  7.62422886, 11.79217251, 12.52303103,\n",
       "       14.77338601,  9.40797795, 18.96444106, 19.63886835, 15.64685712,\n",
       "       22.8911917 , 11.7418389 , 17.39782218, 12.09432297, 19.87279431,\n",
       "       15.37308996, 11.59224156, 11.03779893, 22.48736008,  6.74877459,\n",
       "        5.30047191,  9.29601801,  6.27325925, 18.92748401,  5.77961914,\n",
       "       14.90236227, 14.90331875, 21.21181447, 22.26140752, 19.72659892,\n",
       "       25.96939598, 15.91093763,  6.52342527, 21.46273179, 17.45616876,\n",
       "       12.50252932, 12.08848058,  6.76655643, 13.17352185,  9.33068357])"
      ]
     },
     "execution_count": 54,
     "metadata": {},
     "output_type": "execute_result"
    }
   ],
   "source": [
    "Y_pred"
   ]
  },
  {
   "cell_type": "code",
   "execution_count": 55,
   "id": "95dde751",
   "metadata": {},
   "outputs": [
    {
     "name": "stdout",
     "output_type": "stream",
     "text": [
      "slope: [ 0.00000000e+00  9.16483199e-02  2.25347616e-02 -4.65701531e-04\n",
      "  1.30652795e-03 -1.62567917e-04  8.31531755e-07 -7.44270012e-07\n",
      " -1.18928234e-06  9.37589630e-06]\n",
      "intercept: 4.162147476927448\n"
     ]
    }
   ],
   "source": [
    "print(\"slope:\",lr.coef_)\n",
    "print(\"intercept:\",lr.intercept_)"
   ]
  },
  {
   "cell_type": "code",
   "execution_count": 56,
   "id": "0b4a7916",
   "metadata": {},
   "outputs": [
    {
     "data": {
      "text/plain": [
       "0.14469078648213501"
      ]
     },
     "execution_count": 56,
     "metadata": {},
     "output_type": "execute_result"
    }
   ],
   "source": [
    "mean_squared_error(Y_test,Y_pred)"
   ]
  },
  {
   "cell_type": "code",
   "execution_count": 57,
   "id": "fa07638e",
   "metadata": {},
   "outputs": [
    {
     "data": {
      "text/plain": [
       "0.9941836818131595"
      ]
     },
     "execution_count": 57,
     "metadata": {},
     "output_type": "execute_result"
    }
   ],
   "source": [
    "r2_score(Y_test,Y_pred)"
   ]
  },
  {
   "cell_type": "code",
   "execution_count": 58,
   "id": "2024b3f3",
   "metadata": {},
   "outputs": [
    {
     "name": "stdout",
     "output_type": "stream",
     "text": [
      "58    -0.041888\n",
      "40     0.445638\n",
      "34    -0.093118\n",
      "102   -0.065757\n",
      "184    0.179460\n",
      "198    0.027800\n",
      "95    -0.197140\n",
      "4     -0.023023\n",
      "29     0.143746\n",
      "168    0.245208\n",
      "171   -0.308870\n",
      "18     0.530108\n",
      "11     0.459830\n",
      "89    -0.871036\n",
      "110    0.445780\n",
      "118   -0.579427\n",
      "159   -0.447708\n",
      "35    -0.460786\n",
      "136    0.856041\n",
      "59     0.131923\n",
      "51    -0.196747\n",
      "16    -0.069882\n",
      "44     0.875771\n",
      "94    -0.292173\n",
      "31    -0.623031\n",
      "162    0.126614\n",
      "38     0.692022\n",
      "28    -0.064441\n",
      "193   -0.038868\n",
      "27     0.253143\n",
      "47     0.308808\n",
      "165    0.158161\n",
      "194   -0.097822\n",
      "177   -0.394323\n",
      "176    0.327206\n",
      "97     0.126910\n",
      "174   -0.092242\n",
      "73    -0.037799\n",
      "69    -0.187360\n",
      "172    0.851225\n",
      "108   -0.000472\n",
      "107   -0.596018\n",
      "189    0.426741\n",
      "14     0.072516\n",
      "56    -0.279619\n",
      "19    -0.302362\n",
      "114   -0.303319\n",
      "39     0.288186\n",
      "185    0.338592\n",
      "124   -0.026599\n",
      "98    -0.569396\n",
      "123   -0.710938\n",
      "119    0.076575\n",
      "53    -0.262732\n",
      "33    -0.056169\n",
      "179    0.097471\n",
      "181    0.111519\n",
      "106    0.433444\n",
      "199    0.226478\n",
      "138    0.269316\n",
      "Name: sales, dtype: float64\n"
     ]
    }
   ],
   "source": [
    "residuals=Y_test-Y_pred\n",
    "print(residuals)"
   ]
  },
  {
   "cell_type": "code",
   "execution_count": 59,
   "id": "c76ffb82",
   "metadata": {},
   "outputs": [
    {
     "data": {
      "image/png": "[encoded data removed]",
      "text/plain": [
       "<Figure size 432x288 with 1 Axes>"
      ]
     },
     "metadata": {
      "needs_background": "light"
     },
     "output_type": "display_data"
    }
   ],
   "source": [
    "sns.histplot(residuals)\n",
    "plt.show()"
   ]
  },
  {
   "cell_type": "code",
   "execution_count": 60,
   "id": "9750e311",
   "metadata": {},
   "outputs": [
    {
     "data": {
      "text/plain": [
       "0.07135639672976499"
      ]
     },
     "execution_count": 60,
     "metadata": {},
     "output_type": "execute_result"
    }
   ],
   "source": [
    "residuals.skew()"
   ]
  },
  {
   "cell_type": "code",
   "execution_count": 61,
   "id": "2cb87458",
   "metadata": {},
   "outputs": [
    {
     "data": {
      "image/png": "[encoded data removed]",
      "text/plain": [
       "<Figure size 432x288 with 1 Axes>"
      ]
     },
     "metadata": {
      "needs_background": "light"
     },
     "output_type": "display_data"
    }
   ],
   "source": [
    "# check linear relation or not\n",
    "sns.scatterplot(Y_pred,residuals)\n",
    "plt.show()"
   ]
  }
 ],
 "metadata": {
  "kernelspec": {
   "display_name": "Python 3",
   "language": "python",
   "name": "python3"
  },
  "language_info": {
   "codemirror_mode": {
    "name": "ipython",
    "version": 3
   },
   "file_extension": ".py",
   "mimetype": "text/x-python",
   "name": "python",
   "nbconvert_exporter": "python",
   "pygments_lexer": "ipython3",
   "version": "3.9.5"
  }
 },
 "nbformat": 4,
 "nbformat_minor": 5
}
